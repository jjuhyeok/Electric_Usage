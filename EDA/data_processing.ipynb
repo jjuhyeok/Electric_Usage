{
  "nbformat": 4,
  "nbformat_minor": 0,
  "metadata": {
    "colab": {
      "provenance": []
    },
    "kernelspec": {
      "name": "python3",
      "display_name": "Python 3"
    },
    "language_info": {
      "name": "python"
    }
  },
  "cells": [
    {
      "cell_type": "code",
      "execution_count": null,
      "metadata": {
        "colab": {
          "base_uri": "https://localhost:8080/"
        },
        "id": "ubdf7cmvjCK9",
        "outputId": "1f66ed2a-9b78-44af-89d7-b413b3ba7225"
      },
      "outputs": [
        {
          "output_type": "stream",
          "name": "stdout",
          "text": [
            "Mounted at /content/drive\n"
          ]
        }
      ],
      "source": [
        "from google.colab import drive\n",
        "drive.mount('/content/drive')"
      ]
    },
    {
      "cell_type": "code",
      "source": [
        "!pip install scikit-learn==0.22.1\n",
        "!pip install missingpy"
      ],
      "metadata": {
        "colab": {
          "base_uri": "https://localhost:8080/"
        },
        "id": "bulj6UQiqR9J",
        "outputId": "bd26c5c5-c29f-4861-aa86-12df74393d64"
      },
      "execution_count": null,
      "outputs": [
        {
          "output_type": "stream",
          "name": "stdout",
          "text": [
            "Collecting scikit-learn==0.22.1\n",
            "  Downloading scikit-learn-0.22.1.tar.gz (6.9 MB)\n",
            "\u001b[2K     \u001b[90m━━━━━━━━━━━━━━━━━━━━━━━━━━━━━━━━━━━━━━━━\u001b[0m \u001b[32m6.9/6.9 MB\u001b[0m \u001b[31m18.6 MB/s\u001b[0m eta \u001b[36m0:00:00\u001b[0m\n",
            "\u001b[?25h  Preparing metadata (setup.py) ... \u001b[?25l\u001b[?25hdone\n",
            "Requirement already satisfied: numpy>=1.11.0 in /usr/local/lib/python3.10/dist-packages (from scikit-learn==0.22.1) (1.22.4)\n",
            "Requirement already satisfied: scipy>=0.17.0 in /usr/local/lib/python3.10/dist-packages (from scikit-learn==0.22.1) (1.10.1)\n",
            "Requirement already satisfied: joblib>=0.11 in /usr/local/lib/python3.10/dist-packages (from scikit-learn==0.22.1) (1.3.1)\n",
            "Building wheels for collected packages: scikit-learn\n",
            "  Building wheel for scikit-learn (setup.py) ... \u001b[?25l\u001b[?25hdone\n",
            "  Created wheel for scikit-learn: filename=scikit_learn-0.22.1-cp310-cp310-linux_x86_64.whl size=20732634 sha256=8cb63a1bc69788f3f789e58d3c154b8e56b455f0f1aa85f2023a7f469a8a8ec3\n",
            "  Stored in directory: /root/.cache/pip/wheels/ca/81/17/bedd2679672da7fb35b1984624fa1513d04e026878d72d6a42\n",
            "Successfully built scikit-learn\n",
            "Installing collected packages: scikit-learn\n",
            "  Attempting uninstall: scikit-learn\n",
            "    Found existing installation: scikit-learn 1.2.2\n",
            "    Uninstalling scikit-learn-1.2.2:\n",
            "      Successfully uninstalled scikit-learn-1.2.2\n",
            "\u001b[31mERROR: pip's dependency resolver does not currently take into account all the packages that are installed. This behaviour is the source of the following dependency conflicts.\n",
            "imbalanced-learn 0.10.1 requires scikit-learn>=1.0.2, but you have scikit-learn 0.22.1 which is incompatible.\n",
            "mlxtend 0.22.0 requires scikit-learn>=1.0.2, but you have scikit-learn 0.22.1 which is incompatible.\n",
            "sklearn-pandas 2.2.0 requires scikit-learn>=0.23.0, but you have scikit-learn 0.22.1 which is incompatible.\n",
            "yellowbrick 1.5 requires scikit-learn>=1.0.0, but you have scikit-learn 0.22.1 which is incompatible.\u001b[0m\u001b[31m\n",
            "\u001b[0mSuccessfully installed scikit-learn-0.22.1\n",
            "Collecting missingpy\n",
            "  Downloading missingpy-0.2.0-py3-none-any.whl (49 kB)\n",
            "\u001b[2K     \u001b[90m━━━━━━━━━━━━━━━━━━━━━━━━━━━━━━━━━━━━━━━━\u001b[0m \u001b[32m49.1/49.1 kB\u001b[0m \u001b[31m1.7 MB/s\u001b[0m eta \u001b[36m0:00:00\u001b[0m\n",
            "\u001b[?25hInstalling collected packages: missingpy\n",
            "Successfully installed missingpy-0.2.0\n"
          ]
        }
      ]
    },
    {
      "cell_type": "code",
      "source": [
        "import pandas as pd\n",
        "import numpy as np\n",
        "import random\n",
        "import os\n",
        "\n",
        "from tqdm import tqdm\n",
        "# from missingpy import MissForest\n",
        "import warnings\n",
        "warnings.filterwarnings(\"ignore\")"
      ],
      "metadata": {
        "id": "wG8eGNjIjJbU"
      },
      "execution_count": null,
      "outputs": []
    },
    {
      "cell_type": "markdown",
      "source": [
        "평 = m^2 / 3.3058"
      ],
      "metadata": {
        "id": "3_0c7z8Ol7_x"
      }
    },
    {
      "cell_type": "code",
      "source": [
        "path = '/content/drive/MyDrive/DACON/electronic/'"
      ],
      "metadata": {
        "id": "TQpyVG__jTP_"
      },
      "execution_count": null,
      "outputs": []
    },
    {
      "cell_type": "code",
      "source": [
        "train = pd.read_csv(path+'train.csv')\n",
        "info = pd.read_csv(path+'building_info.csv')\n",
        "test = pd.read_csv(path+'test.csv')\n",
        "submission = pd.read_csv(path+'sample_submission.csv')"
      ],
      "metadata": {
        "id": "rMnFEfUQjme0"
      },
      "execution_count": null,
      "outputs": []
    },
    {
      "cell_type": "code",
      "source": [
        "# prepare data features\n",
        "def __date_prep(df):\n",
        "\n",
        "    df['datetime'] = pd.to_datetime(df['datetime'])\n",
        "    df['hour'] = df['datetime'].dt.hour\n",
        "    df['dow'] = df['datetime'].dt.weekday\n",
        "    df['date'] = df['datetime'].dt.date.astype('str')\n",
        "    df['day'] = df['datetime'].dt.day\n",
        "    df['month'] = df['datetime'].dt.month\n",
        "    df['sin_time'] = np.sin(2*np.pi*df.hour/24)\n",
        "    df['cos_time'] = np.cos(2*np.pi*df.hour/24)\n",
        "    df['THI'] = 9/5*df['temperature'] - 0.55*(1-df['humidity']/100)*(9/5*df['humidity']-26)+32\n",
        "    df['WC'] = 13.12+0.6215*df['temperature']-13.947*df['windspeed']**0.16+0.486*df['temperature']*df['windspeed']**0.16\n",
        "    df['Hindex'] = df['temperature'] + (0.5555 * math.exp(-10))\n",
        "    # df['work_hour'] = ((df['hour']>=8) & (df['hour']<=19)).astype(int)\n",
        "#     df['lunch_hour'] = ((df['hour']>=11) & (df['hour']<=13) & (df['dow']<=4)).astype(int)\n",
        "#     df['lunch_hour2'] = ((df['hour']>=12) & (df['hour']<=14) & (df['dow']>4)).astype(int)\n",
        "\n",
        "#     df['dinner_hour'] = ((df['hour']>=17) & (df['hour']<=22)).astype(int)\n",
        "#     df['dinner_hour2'] = ((df['hour']>=18) & (df['dow']>=4) & (df['dow']<=5)).astype(int)\n",
        "\n",
        "    cdhs = np.array([])\n",
        "    for num in range(1,101,1):\n",
        "        temp = df[df['num'] == num]\n",
        "        cdh = CDH(temp['temperature'].values)\n",
        "        cdhs = np.concatenate([cdhs, cdh])\n",
        "    df['CDH'] = cdhs\n",
        "\n",
        "    # FEATURE: saturday, sunday and speical holidays flagged as `holiday` flag\n",
        "    special_days = ['2020-01-01', '2020-06-06', '2020-08-15', '2020-08-17', '2020-01-24', '2020-01-25', '2020-01-26', '2020-01-27', '2020-03-01', '2020-04-15', '2020-04-30', '2020-05-05', '2020-09-30', '2020-10-01', '2020-10-02', '2020-10-03', '2020-10-09', '2020-12-25',\n",
        "                    '2021-01-01', '2021-02-11', '2021-02-12', '2021-02-13', '2021-03-01', '2021-05-05', '2021-05-19', '2021-06-06', '2021-08-15', '2021-09-20', '2021-09-21', '2021-09-22', '2021-10-03', '2021-10-09', '2021-12-25',\n",
        "                    '2022-01-01', '2022-01-31', '2022-02-01', '2022-02-02', '2022-03-01', '2022-05-05', '2022-05-08', '2022-06-06', '2022-08-15', '2022-09-09', '2022-09-10', '2022-09-11', '2022-09-12', '2022-10-03', '2022-10-09',  '2022-10-10', '2022-12-25']\n",
        "    df['holiday'] = df['dow'].isin([5,6]).astype(int)\n",
        "    df.loc[df.date.isin(special_days), 'holiday'] = 1\n",
        "\n",
        "    # FEATURE: `hot` flag when the next day is holiday\n",
        "    hot = df.groupby('date').first()['holiday'].shift(-1).fillna(0).astype(int)\n",
        "    hot = hot.to_frame().reset_index().rename({'holiday': \"hot\"}, axis=1)\n",
        "    df = df.merge(hot, on='date', how='left')\n",
        "\n",
        "    # FEATURE: `cumhol` - how many days left in 연휴\n",
        "    h = (df.groupby('date').first()['holiday'] != 0).iloc[::-1]\n",
        "    df1 = h.cumsum() - h.cumsum().where(~h).ffill().fillna(0).astype(int).iloc[::-1]\n",
        "    df1 = df1.to_frame().reset_index().rename({'holiday': \"cumhol\"}, axis=1)\n",
        "    df = df.merge(df1, on='date', how='left')\n",
        "\n",
        "    return df"
      ],
      "metadata": {
        "id": "iU314P2ulblK"
      },
      "execution_count": null,
      "outputs": []
    },
    {
      "cell_type": "code",
      "source": [
        "# interpolate NA values in test dataset\n",
        "def interpolate_(train_df):\n",
        "    # https://dacon.io/competitions/official/235736/codeshare/2844?page=1&dtype=recent\n",
        "    # 에서 제안된 방법으로\n",
        "    __methods = {\n",
        "        'precipitation': 'quadratic',\n",
        "        'windspeed':'quadratic',\n",
        "        'humidity':'quadratic',\n",
        "        # 'insolation': 'pad'\n",
        "    }\n",
        "\n",
        "    for col, method in __methods.items():\n",
        "        train_df[col] = train_df[col].interpolate(method=method)\n",
        "        if method == 'quadratic':\n",
        "            train_df[col] = train_df[col].interpolate(method='linear')\n",
        "\n",
        "def interpolate2_(train_df):\n",
        "    # https://dacon.io/competitions/official/235736/codeshare/2844?page=1&dtype=recent\n",
        "    # 에서 제안된 방법으로\n",
        "    __methods = {\n",
        "        'precipitation': 'linear',\n",
        "        # 'windspeed':'quadratic',\n",
        "        # 'humidity':'quadratic',\n",
        "        # 'insolation': 'pad'\n",
        "    }\n",
        "\n",
        "    for col, method in __methods.items():\n",
        "        train_df[col] = train_df[col].interpolate(method=method)\n",
        "        if method == 'quadratic':\n",
        "            train_df[col] = train_df[col].interpolate(method='linear')"
      ],
      "metadata": {
        "id": "pT-JglchlbiR"
      },
      "execution_count": null,
      "outputs": []
    },
    {
      "cell_type": "code",
      "source": [
        "info"
      ],
      "metadata": {
        "colab": {
          "base_uri": "https://localhost:8080/",
          "height": 424
        },
        "id": "q4zwF3I8QJT4",
        "outputId": "8d824f86-8b7c-473a-e9e3-681fb77f80ef"
      },
      "execution_count": null,
      "outputs": [
        {
          "output_type": "execute_result",
          "data": {
            "text/plain": [
              "    건물번호    건물유형    연면적(m2)   냉방면적(m2) 태양광용량(kW) ESS저장용량(kWh) PCS용량(kW)\n",
              "0      1    건물기타  110634.00   39570.00         0            0         0\n",
              "1      2    건물기타  122233.47   99000.00         0            0         0\n",
              "2      3    건물기타  171243.00  113950.00        40            0         0\n",
              "3      4    건물기타   74312.98   34419.62        60            0         0\n",
              "4      5    건물기타  205884.00  150000.00         0         2557      1000\n",
              "..   ...     ...        ...        ...       ...          ...       ...\n",
              "95    96  호텔및리조트   93314.00   60500.00         0            0         0\n",
              "96    97  호텔및리조트   55144.67   25880.00         0            0         0\n",
              "97    98  호텔및리조트   53578.62   17373.75         0            0         0\n",
              "98    99  호텔및리조트   53499.00   40636.00         0            0         0\n",
              "99   100  호텔및리조트   57497.84   40035.23         0            0         0\n",
              "\n",
              "[100 rows x 7 columns]"
            ],
            "text/html": [
              "\n",
              "\n",
              "  <div id=\"df-f3bf73bf-32c5-4137-8c5c-826ddebb6348\">\n",
              "    <div class=\"colab-df-container\">\n",
              "      <div>\n",
              "<style scoped>\n",
              "    .dataframe tbody tr th:only-of-type {\n",
              "        vertical-align: middle;\n",
              "    }\n",
              "\n",
              "    .dataframe tbody tr th {\n",
              "        vertical-align: top;\n",
              "    }\n",
              "\n",
              "    .dataframe thead th {\n",
              "        text-align: right;\n",
              "    }\n",
              "</style>\n",
              "<table border=\"1\" class=\"dataframe\">\n",
              "  <thead>\n",
              "    <tr style=\"text-align: right;\">\n",
              "      <th></th>\n",
              "      <th>건물번호</th>\n",
              "      <th>건물유형</th>\n",
              "      <th>연면적(m2)</th>\n",
              "      <th>냉방면적(m2)</th>\n",
              "      <th>태양광용량(kW)</th>\n",
              "      <th>ESS저장용량(kWh)</th>\n",
              "      <th>PCS용량(kW)</th>\n",
              "    </tr>\n",
              "  </thead>\n",
              "  <tbody>\n",
              "    <tr>\n",
              "      <th>0</th>\n",
              "      <td>1</td>\n",
              "      <td>건물기타</td>\n",
              "      <td>110634.00</td>\n",
              "      <td>39570.00</td>\n",
              "      <td>0</td>\n",
              "      <td>0</td>\n",
              "      <td>0</td>\n",
              "    </tr>\n",
              "    <tr>\n",
              "      <th>1</th>\n",
              "      <td>2</td>\n",
              "      <td>건물기타</td>\n",
              "      <td>122233.47</td>\n",
              "      <td>99000.00</td>\n",
              "      <td>0</td>\n",
              "      <td>0</td>\n",
              "      <td>0</td>\n",
              "    </tr>\n",
              "    <tr>\n",
              "      <th>2</th>\n",
              "      <td>3</td>\n",
              "      <td>건물기타</td>\n",
              "      <td>171243.00</td>\n",
              "      <td>113950.00</td>\n",
              "      <td>40</td>\n",
              "      <td>0</td>\n",
              "      <td>0</td>\n",
              "    </tr>\n",
              "    <tr>\n",
              "      <th>3</th>\n",
              "      <td>4</td>\n",
              "      <td>건물기타</td>\n",
              "      <td>74312.98</td>\n",
              "      <td>34419.62</td>\n",
              "      <td>60</td>\n",
              "      <td>0</td>\n",
              "      <td>0</td>\n",
              "    </tr>\n",
              "    <tr>\n",
              "      <th>4</th>\n",
              "      <td>5</td>\n",
              "      <td>건물기타</td>\n",
              "      <td>205884.00</td>\n",
              "      <td>150000.00</td>\n",
              "      <td>0</td>\n",
              "      <td>2557</td>\n",
              "      <td>1000</td>\n",
              "    </tr>\n",
              "    <tr>\n",
              "      <th>...</th>\n",
              "      <td>...</td>\n",
              "      <td>...</td>\n",
              "      <td>...</td>\n",
              "      <td>...</td>\n",
              "      <td>...</td>\n",
              "      <td>...</td>\n",
              "      <td>...</td>\n",
              "    </tr>\n",
              "    <tr>\n",
              "      <th>95</th>\n",
              "      <td>96</td>\n",
              "      <td>호텔및리조트</td>\n",
              "      <td>93314.00</td>\n",
              "      <td>60500.00</td>\n",
              "      <td>0</td>\n",
              "      <td>0</td>\n",
              "      <td>0</td>\n",
              "    </tr>\n",
              "    <tr>\n",
              "      <th>96</th>\n",
              "      <td>97</td>\n",
              "      <td>호텔및리조트</td>\n",
              "      <td>55144.67</td>\n",
              "      <td>25880.00</td>\n",
              "      <td>0</td>\n",
              "      <td>0</td>\n",
              "      <td>0</td>\n",
              "    </tr>\n",
              "    <tr>\n",
              "      <th>97</th>\n",
              "      <td>98</td>\n",
              "      <td>호텔및리조트</td>\n",
              "      <td>53578.62</td>\n",
              "      <td>17373.75</td>\n",
              "      <td>0</td>\n",
              "      <td>0</td>\n",
              "      <td>0</td>\n",
              "    </tr>\n",
              "    <tr>\n",
              "      <th>98</th>\n",
              "      <td>99</td>\n",
              "      <td>호텔및리조트</td>\n",
              "      <td>53499.00</td>\n",
              "      <td>40636.00</td>\n",
              "      <td>0</td>\n",
              "      <td>0</td>\n",
              "      <td>0</td>\n",
              "    </tr>\n",
              "    <tr>\n",
              "      <th>99</th>\n",
              "      <td>100</td>\n",
              "      <td>호텔및리조트</td>\n",
              "      <td>57497.84</td>\n",
              "      <td>40035.23</td>\n",
              "      <td>0</td>\n",
              "      <td>0</td>\n",
              "      <td>0</td>\n",
              "    </tr>\n",
              "  </tbody>\n",
              "</table>\n",
              "<p>100 rows × 7 columns</p>\n",
              "</div>\n",
              "      <button class=\"colab-df-convert\" onclick=\"convertToInteractive('df-f3bf73bf-32c5-4137-8c5c-826ddebb6348')\"\n",
              "              title=\"Convert this dataframe to an interactive table.\"\n",
              "              style=\"display:none;\">\n",
              "\n",
              "  <svg xmlns=\"http://www.w3.org/2000/svg\" height=\"24px\"viewBox=\"0 0 24 24\"\n",
              "       width=\"24px\">\n",
              "    <path d=\"M0 0h24v24H0V0z\" fill=\"none\"/>\n",
              "    <path d=\"M18.56 5.44l.94 2.06.94-2.06 2.06-.94-2.06-.94-.94-2.06-.94 2.06-2.06.94zm-11 1L8.5 8.5l.94-2.06 2.06-.94-2.06-.94L8.5 2.5l-.94 2.06-2.06.94zm10 10l.94 2.06.94-2.06 2.06-.94-2.06-.94-.94-2.06-.94 2.06-2.06.94z\"/><path d=\"M17.41 7.96l-1.37-1.37c-.4-.4-.92-.59-1.43-.59-.52 0-1.04.2-1.43.59L10.3 9.45l-7.72 7.72c-.78.78-.78 2.05 0 2.83L4 21.41c.39.39.9.59 1.41.59.51 0 1.02-.2 1.41-.59l7.78-7.78 2.81-2.81c.8-.78.8-2.07 0-2.86zM5.41 20L4 18.59l7.72-7.72 1.47 1.35L5.41 20z\"/>\n",
              "  </svg>\n",
              "      </button>\n",
              "\n",
              "\n",
              "\n",
              "    <div id=\"df-33c926c5-5061-4fa9-a151-9baf970ce751\">\n",
              "      <button class=\"colab-df-quickchart\" onclick=\"quickchart('df-33c926c5-5061-4fa9-a151-9baf970ce751')\"\n",
              "              title=\"Suggest charts.\"\n",
              "              style=\"display:none;\">\n",
              "\n",
              "<svg xmlns=\"http://www.w3.org/2000/svg\" height=\"24px\"viewBox=\"0 0 24 24\"\n",
              "     width=\"24px\">\n",
              "    <g>\n",
              "        <path d=\"M19 3H5c-1.1 0-2 .9-2 2v14c0 1.1.9 2 2 2h14c1.1 0 2-.9 2-2V5c0-1.1-.9-2-2-2zM9 17H7v-7h2v7zm4 0h-2V7h2v10zm4 0h-2v-4h2v4z\"/>\n",
              "    </g>\n",
              "</svg>\n",
              "      </button>\n",
              "    </div>\n",
              "\n",
              "<style>\n",
              "  .colab-df-quickchart {\n",
              "    background-color: #E8F0FE;\n",
              "    border: none;\n",
              "    border-radius: 50%;\n",
              "    cursor: pointer;\n",
              "    display: none;\n",
              "    fill: #1967D2;\n",
              "    height: 32px;\n",
              "    padding: 0 0 0 0;\n",
              "    width: 32px;\n",
              "  }\n",
              "\n",
              "  .colab-df-quickchart:hover {\n",
              "    background-color: #E2EBFA;\n",
              "    box-shadow: 0px 1px 2px rgba(60, 64, 67, 0.3), 0px 1px 3px 1px rgba(60, 64, 67, 0.15);\n",
              "    fill: #174EA6;\n",
              "  }\n",
              "\n",
              "  [theme=dark] .colab-df-quickchart {\n",
              "    background-color: #3B4455;\n",
              "    fill: #D2E3FC;\n",
              "  }\n",
              "\n",
              "  [theme=dark] .colab-df-quickchart:hover {\n",
              "    background-color: #434B5C;\n",
              "    box-shadow: 0px 1px 3px 1px rgba(0, 0, 0, 0.15);\n",
              "    filter: drop-shadow(0px 1px 2px rgba(0, 0, 0, 0.3));\n",
              "    fill: #FFFFFF;\n",
              "  }\n",
              "</style>\n",
              "\n",
              "    <script>\n",
              "      async function quickchart(key) {\n",
              "        const containerElement = document.querySelector('#' + key);\n",
              "        const charts = await google.colab.kernel.invokeFunction(\n",
              "            'suggestCharts', [key], {});\n",
              "      }\n",
              "    </script>\n",
              "\n",
              "      <script>\n",
              "\n",
              "function displayQuickchartButton(domScope) {\n",
              "  let quickchartButtonEl =\n",
              "    domScope.querySelector('#df-33c926c5-5061-4fa9-a151-9baf970ce751 button.colab-df-quickchart');\n",
              "  quickchartButtonEl.style.display =\n",
              "    google.colab.kernel.accessAllowed ? 'block' : 'none';\n",
              "}\n",
              "\n",
              "        displayQuickchartButton(document);\n",
              "      </script>\n",
              "      <style>\n",
              "    .colab-df-container {\n",
              "      display:flex;\n",
              "      flex-wrap:wrap;\n",
              "      gap: 12px;\n",
              "    }\n",
              "\n",
              "    .colab-df-convert {\n",
              "      background-color: #E8F0FE;\n",
              "      border: none;\n",
              "      border-radius: 50%;\n",
              "      cursor: pointer;\n",
              "      display: none;\n",
              "      fill: #1967D2;\n",
              "      height: 32px;\n",
              "      padding: 0 0 0 0;\n",
              "      width: 32px;\n",
              "    }\n",
              "\n",
              "    .colab-df-convert:hover {\n",
              "      background-color: #E2EBFA;\n",
              "      box-shadow: 0px 1px 2px rgba(60, 64, 67, 0.3), 0px 1px 3px 1px rgba(60, 64, 67, 0.15);\n",
              "      fill: #174EA6;\n",
              "    }\n",
              "\n",
              "    [theme=dark] .colab-df-convert {\n",
              "      background-color: #3B4455;\n",
              "      fill: #D2E3FC;\n",
              "    }\n",
              "\n",
              "    [theme=dark] .colab-df-convert:hover {\n",
              "      background-color: #434B5C;\n",
              "      box-shadow: 0px 1px 3px 1px rgba(0, 0, 0, 0.15);\n",
              "      filter: drop-shadow(0px 1px 2px rgba(0, 0, 0, 0.3));\n",
              "      fill: #FFFFFF;\n",
              "    }\n",
              "  </style>\n",
              "\n",
              "      <script>\n",
              "        const buttonEl =\n",
              "          document.querySelector('#df-f3bf73bf-32c5-4137-8c5c-826ddebb6348 button.colab-df-convert');\n",
              "        buttonEl.style.display =\n",
              "          google.colab.kernel.accessAllowed ? 'block' : 'none';\n",
              "\n",
              "        async function convertToInteractive(key) {\n",
              "          const element = document.querySelector('#df-f3bf73bf-32c5-4137-8c5c-826ddebb6348');\n",
              "          const dataTable =\n",
              "            await google.colab.kernel.invokeFunction('convertToInteractive',\n",
              "                                                     [key], {});\n",
              "          if (!dataTable) return;\n",
              "\n",
              "          const docLinkHtml = 'Like what you see? Visit the ' +\n",
              "            '<a target=\"_blank\" href=https://colab.research.google.com/notebooks/data_table.ipynb>data table notebook</a>'\n",
              "            + ' to learn more about interactive tables.';\n",
              "          element.innerHTML = '';\n",
              "          dataTable['output_type'] = 'display_data';\n",
              "          await google.colab.output.renderOutput(dataTable, element);\n",
              "          const docLink = document.createElement('div');\n",
              "          docLink.innerHTML = docLinkHtml;\n",
              "          element.appendChild(docLink);\n",
              "        }\n",
              "      </script>\n",
              "    </div>\n",
              "  </div>\n"
            ]
          },
          "metadata": {},
          "execution_count": 19
        }
      ]
    },
    {
      "cell_type": "code",
      "source": [
        "info['태양광용량(kW)'] = info['태양광용량(kW)'].replace('-', 0)\n",
        "info['ESS저장용량(kWh)'] = info['ESS저장용량(kWh)'].replace('-', 0)\n",
        "info['PCS용량(kW)'] = info['PCS용량(kW)'].replace('-', 0)\n",
        "# info.drop(columns=['건물유형'], inplace=True)"
      ],
      "metadata": {
        "id": "z9ZQ2oj9j7AO"
      },
      "execution_count": null,
      "outputs": []
    },
    {
      "cell_type": "code",
      "source": [
        "def data_processing(df, info):\n",
        "    df = pd.merge(df, info, how='inner', on='건물번호')\n",
        "    df.drop(columns=['num_date_time'], inplace=True)\n",
        "    return df"
      ],
      "metadata": {
        "id": "BD0sgCdqMs7O"
      },
      "execution_count": null,
      "outputs": []
    },
    {
      "cell_type": "code",
      "source": [
        "train"
      ],
      "metadata": {
        "colab": {
          "base_uri": "https://localhost:8080/",
          "height": 424
        },
        "id": "czRKqmeBPt1E",
        "outputId": "c05ee4ab-809b-4ed8-ae11-df59ee714fd3"
      },
      "execution_count": null,
      "outputs": [
        {
          "output_type": "execute_result",
          "data": {
            "text/plain": [
              "          num_date_time  건물번호           일시  기온(C)  강수량(mm)  풍속(m/s)  습도(%)  \\\n",
              "0         1_20220601 00     1  20220601 00   18.6      NaN      0.9   42.0   \n",
              "1         1_20220601 01     1  20220601 01   18.0      NaN      1.1   45.0   \n",
              "2         1_20220601 02     1  20220601 02   17.7      NaN      1.5   45.0   \n",
              "3         1_20220601 03     1  20220601 03   16.7      NaN      1.4   48.0   \n",
              "4         1_20220601 04     1  20220601 04   18.4      NaN      2.8   43.0   \n",
              "...                 ...   ...          ...    ...      ...      ...    ...   \n",
              "203995  100_20220824 19   100  20220824 19   23.1      NaN      0.9   86.0   \n",
              "203996  100_20220824 20   100  20220824 20   22.4      NaN      1.3   86.0   \n",
              "203997  100_20220824 21   100  20220824 21   21.3      NaN      1.0   92.0   \n",
              "203998  100_20220824 22   100  20220824 22   21.0      NaN      0.3   94.0   \n",
              "203999  100_20220824 23   100  20220824 23   20.7      NaN      0.1   95.0   \n",
              "\n",
              "        일조(hr)  일사(MJ/m2)  전력소비량(kWh)  \n",
              "0          NaN        NaN     1085.28  \n",
              "1          NaN        NaN     1047.36  \n",
              "2          NaN        NaN      974.88  \n",
              "3          NaN        NaN      953.76  \n",
              "4          NaN        NaN      986.40  \n",
              "...        ...        ...         ...  \n",
              "203995     0.5        NaN      881.04  \n",
              "203996     0.0        NaN      798.96  \n",
              "203997     NaN        NaN      825.12  \n",
              "203998     NaN        NaN      640.08  \n",
              "203999     NaN        NaN      540.24  \n",
              "\n",
              "[204000 rows x 10 columns]"
            ],
            "text/html": [
              "\n",
              "\n",
              "  <div id=\"df-a465a4da-add6-4412-bec5-115e8d1ce2ad\">\n",
              "    <div class=\"colab-df-container\">\n",
              "      <div>\n",
              "<style scoped>\n",
              "    .dataframe tbody tr th:only-of-type {\n",
              "        vertical-align: middle;\n",
              "    }\n",
              "\n",
              "    .dataframe tbody tr th {\n",
              "        vertical-align: top;\n",
              "    }\n",
              "\n",
              "    .dataframe thead th {\n",
              "        text-align: right;\n",
              "    }\n",
              "</style>\n",
              "<table border=\"1\" class=\"dataframe\">\n",
              "  <thead>\n",
              "    <tr style=\"text-align: right;\">\n",
              "      <th></th>\n",
              "      <th>num_date_time</th>\n",
              "      <th>건물번호</th>\n",
              "      <th>일시</th>\n",
              "      <th>기온(C)</th>\n",
              "      <th>강수량(mm)</th>\n",
              "      <th>풍속(m/s)</th>\n",
              "      <th>습도(%)</th>\n",
              "      <th>일조(hr)</th>\n",
              "      <th>일사(MJ/m2)</th>\n",
              "      <th>전력소비량(kWh)</th>\n",
              "    </tr>\n",
              "  </thead>\n",
              "  <tbody>\n",
              "    <tr>\n",
              "      <th>0</th>\n",
              "      <td>1_20220601 00</td>\n",
              "      <td>1</td>\n",
              "      <td>20220601 00</td>\n",
              "      <td>18.6</td>\n",
              "      <td>NaN</td>\n",
              "      <td>0.9</td>\n",
              "      <td>42.0</td>\n",
              "      <td>NaN</td>\n",
              "      <td>NaN</td>\n",
              "      <td>1085.28</td>\n",
              "    </tr>\n",
              "    <tr>\n",
              "      <th>1</th>\n",
              "      <td>1_20220601 01</td>\n",
              "      <td>1</td>\n",
              "      <td>20220601 01</td>\n",
              "      <td>18.0</td>\n",
              "      <td>NaN</td>\n",
              "      <td>1.1</td>\n",
              "      <td>45.0</td>\n",
              "      <td>NaN</td>\n",
              "      <td>NaN</td>\n",
              "      <td>1047.36</td>\n",
              "    </tr>\n",
              "    <tr>\n",
              "      <th>2</th>\n",
              "      <td>1_20220601 02</td>\n",
              "      <td>1</td>\n",
              "      <td>20220601 02</td>\n",
              "      <td>17.7</td>\n",
              "      <td>NaN</td>\n",
              "      <td>1.5</td>\n",
              "      <td>45.0</td>\n",
              "      <td>NaN</td>\n",
              "      <td>NaN</td>\n",
              "      <td>974.88</td>\n",
              "    </tr>\n",
              "    <tr>\n",
              "      <th>3</th>\n",
              "      <td>1_20220601 03</td>\n",
              "      <td>1</td>\n",
              "      <td>20220601 03</td>\n",
              "      <td>16.7</td>\n",
              "      <td>NaN</td>\n",
              "      <td>1.4</td>\n",
              "      <td>48.0</td>\n",
              "      <td>NaN</td>\n",
              "      <td>NaN</td>\n",
              "      <td>953.76</td>\n",
              "    </tr>\n",
              "    <tr>\n",
              "      <th>4</th>\n",
              "      <td>1_20220601 04</td>\n",
              "      <td>1</td>\n",
              "      <td>20220601 04</td>\n",
              "      <td>18.4</td>\n",
              "      <td>NaN</td>\n",
              "      <td>2.8</td>\n",
              "      <td>43.0</td>\n",
              "      <td>NaN</td>\n",
              "      <td>NaN</td>\n",
              "      <td>986.40</td>\n",
              "    </tr>\n",
              "    <tr>\n",
              "      <th>...</th>\n",
              "      <td>...</td>\n",
              "      <td>...</td>\n",
              "      <td>...</td>\n",
              "      <td>...</td>\n",
              "      <td>...</td>\n",
              "      <td>...</td>\n",
              "      <td>...</td>\n",
              "      <td>...</td>\n",
              "      <td>...</td>\n",
              "      <td>...</td>\n",
              "    </tr>\n",
              "    <tr>\n",
              "      <th>203995</th>\n",
              "      <td>100_20220824 19</td>\n",
              "      <td>100</td>\n",
              "      <td>20220824 19</td>\n",
              "      <td>23.1</td>\n",
              "      <td>NaN</td>\n",
              "      <td>0.9</td>\n",
              "      <td>86.0</td>\n",
              "      <td>0.5</td>\n",
              "      <td>NaN</td>\n",
              "      <td>881.04</td>\n",
              "    </tr>\n",
              "    <tr>\n",
              "      <th>203996</th>\n",
              "      <td>100_20220824 20</td>\n",
              "      <td>100</td>\n",
              "      <td>20220824 20</td>\n",
              "      <td>22.4</td>\n",
              "      <td>NaN</td>\n",
              "      <td>1.3</td>\n",
              "      <td>86.0</td>\n",
              "      <td>0.0</td>\n",
              "      <td>NaN</td>\n",
              "      <td>798.96</td>\n",
              "    </tr>\n",
              "    <tr>\n",
              "      <th>203997</th>\n",
              "      <td>100_20220824 21</td>\n",
              "      <td>100</td>\n",
              "      <td>20220824 21</td>\n",
              "      <td>21.3</td>\n",
              "      <td>NaN</td>\n",
              "      <td>1.0</td>\n",
              "      <td>92.0</td>\n",
              "      <td>NaN</td>\n",
              "      <td>NaN</td>\n",
              "      <td>825.12</td>\n",
              "    </tr>\n",
              "    <tr>\n",
              "      <th>203998</th>\n",
              "      <td>100_20220824 22</td>\n",
              "      <td>100</td>\n",
              "      <td>20220824 22</td>\n",
              "      <td>21.0</td>\n",
              "      <td>NaN</td>\n",
              "      <td>0.3</td>\n",
              "      <td>94.0</td>\n",
              "      <td>NaN</td>\n",
              "      <td>NaN</td>\n",
              "      <td>640.08</td>\n",
              "    </tr>\n",
              "    <tr>\n",
              "      <th>203999</th>\n",
              "      <td>100_20220824 23</td>\n",
              "      <td>100</td>\n",
              "      <td>20220824 23</td>\n",
              "      <td>20.7</td>\n",
              "      <td>NaN</td>\n",
              "      <td>0.1</td>\n",
              "      <td>95.0</td>\n",
              "      <td>NaN</td>\n",
              "      <td>NaN</td>\n",
              "      <td>540.24</td>\n",
              "    </tr>\n",
              "  </tbody>\n",
              "</table>\n",
              "<p>204000 rows × 10 columns</p>\n",
              "</div>\n",
              "      <button class=\"colab-df-convert\" onclick=\"convertToInteractive('df-a465a4da-add6-4412-bec5-115e8d1ce2ad')\"\n",
              "              title=\"Convert this dataframe to an interactive table.\"\n",
              "              style=\"display:none;\">\n",
              "\n",
              "  <svg xmlns=\"http://www.w3.org/2000/svg\" height=\"24px\"viewBox=\"0 0 24 24\"\n",
              "       width=\"24px\">\n",
              "    <path d=\"M0 0h24v24H0V0z\" fill=\"none\"/>\n",
              "    <path d=\"M18.56 5.44l.94 2.06.94-2.06 2.06-.94-2.06-.94-.94-2.06-.94 2.06-2.06.94zm-11 1L8.5 8.5l.94-2.06 2.06-.94-2.06-.94L8.5 2.5l-.94 2.06-2.06.94zm10 10l.94 2.06.94-2.06 2.06-.94-2.06-.94-.94-2.06-.94 2.06-2.06.94z\"/><path d=\"M17.41 7.96l-1.37-1.37c-.4-.4-.92-.59-1.43-.59-.52 0-1.04.2-1.43.59L10.3 9.45l-7.72 7.72c-.78.78-.78 2.05 0 2.83L4 21.41c.39.39.9.59 1.41.59.51 0 1.02-.2 1.41-.59l7.78-7.78 2.81-2.81c.8-.78.8-2.07 0-2.86zM5.41 20L4 18.59l7.72-7.72 1.47 1.35L5.41 20z\"/>\n",
              "  </svg>\n",
              "      </button>\n",
              "\n",
              "\n",
              "\n",
              "    <div id=\"df-dc1cae04-58c7-46de-a5ac-596ccf62983d\">\n",
              "      <button class=\"colab-df-quickchart\" onclick=\"quickchart('df-dc1cae04-58c7-46de-a5ac-596ccf62983d')\"\n",
              "              title=\"Suggest charts.\"\n",
              "              style=\"display:none;\">\n",
              "\n",
              "<svg xmlns=\"http://www.w3.org/2000/svg\" height=\"24px\"viewBox=\"0 0 24 24\"\n",
              "     width=\"24px\">\n",
              "    <g>\n",
              "        <path d=\"M19 3H5c-1.1 0-2 .9-2 2v14c0 1.1.9 2 2 2h14c1.1 0 2-.9 2-2V5c0-1.1-.9-2-2-2zM9 17H7v-7h2v7zm4 0h-2V7h2v10zm4 0h-2v-4h2v4z\"/>\n",
              "    </g>\n",
              "</svg>\n",
              "      </button>\n",
              "    </div>\n",
              "\n",
              "<style>\n",
              "  .colab-df-quickchart {\n",
              "    background-color: #E8F0FE;\n",
              "    border: none;\n",
              "    border-radius: 50%;\n",
              "    cursor: pointer;\n",
              "    display: none;\n",
              "    fill: #1967D2;\n",
              "    height: 32px;\n",
              "    padding: 0 0 0 0;\n",
              "    width: 32px;\n",
              "  }\n",
              "\n",
              "  .colab-df-quickchart:hover {\n",
              "    background-color: #E2EBFA;\n",
              "    box-shadow: 0px 1px 2px rgba(60, 64, 67, 0.3), 0px 1px 3px 1px rgba(60, 64, 67, 0.15);\n",
              "    fill: #174EA6;\n",
              "  }\n",
              "\n",
              "  [theme=dark] .colab-df-quickchart {\n",
              "    background-color: #3B4455;\n",
              "    fill: #D2E3FC;\n",
              "  }\n",
              "\n",
              "  [theme=dark] .colab-df-quickchart:hover {\n",
              "    background-color: #434B5C;\n",
              "    box-shadow: 0px 1px 3px 1px rgba(0, 0, 0, 0.15);\n",
              "    filter: drop-shadow(0px 1px 2px rgba(0, 0, 0, 0.3));\n",
              "    fill: #FFFFFF;\n",
              "  }\n",
              "</style>\n",
              "\n",
              "    <script>\n",
              "      async function quickchart(key) {\n",
              "        const containerElement = document.querySelector('#' + key);\n",
              "        const charts = await google.colab.kernel.invokeFunction(\n",
              "            'suggestCharts', [key], {});\n",
              "      }\n",
              "    </script>\n",
              "\n",
              "      <script>\n",
              "\n",
              "function displayQuickchartButton(domScope) {\n",
              "  let quickchartButtonEl =\n",
              "    domScope.querySelector('#df-dc1cae04-58c7-46de-a5ac-596ccf62983d button.colab-df-quickchart');\n",
              "  quickchartButtonEl.style.display =\n",
              "    google.colab.kernel.accessAllowed ? 'block' : 'none';\n",
              "}\n",
              "\n",
              "        displayQuickchartButton(document);\n",
              "      </script>\n",
              "      <style>\n",
              "    .colab-df-container {\n",
              "      display:flex;\n",
              "      flex-wrap:wrap;\n",
              "      gap: 12px;\n",
              "    }\n",
              "\n",
              "    .colab-df-convert {\n",
              "      background-color: #E8F0FE;\n",
              "      border: none;\n",
              "      border-radius: 50%;\n",
              "      cursor: pointer;\n",
              "      display: none;\n",
              "      fill: #1967D2;\n",
              "      height: 32px;\n",
              "      padding: 0 0 0 0;\n",
              "      width: 32px;\n",
              "    }\n",
              "\n",
              "    .colab-df-convert:hover {\n",
              "      background-color: #E2EBFA;\n",
              "      box-shadow: 0px 1px 2px rgba(60, 64, 67, 0.3), 0px 1px 3px 1px rgba(60, 64, 67, 0.15);\n",
              "      fill: #174EA6;\n",
              "    }\n",
              "\n",
              "    [theme=dark] .colab-df-convert {\n",
              "      background-color: #3B4455;\n",
              "      fill: #D2E3FC;\n",
              "    }\n",
              "\n",
              "    [theme=dark] .colab-df-convert:hover {\n",
              "      background-color: #434B5C;\n",
              "      box-shadow: 0px 1px 3px 1px rgba(0, 0, 0, 0.15);\n",
              "      filter: drop-shadow(0px 1px 2px rgba(0, 0, 0, 0.3));\n",
              "      fill: #FFFFFF;\n",
              "    }\n",
              "  </style>\n",
              "\n",
              "      <script>\n",
              "        const buttonEl =\n",
              "          document.querySelector('#df-a465a4da-add6-4412-bec5-115e8d1ce2ad button.colab-df-convert');\n",
              "        buttonEl.style.display =\n",
              "          google.colab.kernel.accessAllowed ? 'block' : 'none';\n",
              "\n",
              "        async function convertToInteractive(key) {\n",
              "          const element = document.querySelector('#df-a465a4da-add6-4412-bec5-115e8d1ce2ad');\n",
              "          const dataTable =\n",
              "            await google.colab.kernel.invokeFunction('convertToInteractive',\n",
              "                                                     [key], {});\n",
              "          if (!dataTable) return;\n",
              "\n",
              "          const docLinkHtml = 'Like what you see? Visit the ' +\n",
              "            '<a target=\"_blank\" href=https://colab.research.google.com/notebooks/data_table.ipynb>data table notebook</a>'\n",
              "            + ' to learn more about interactive tables.';\n",
              "          element.innerHTML = '';\n",
              "          dataTable['output_type'] = 'display_data';\n",
              "          await google.colab.output.renderOutput(dataTable, element);\n",
              "          const docLink = document.createElement('div');\n",
              "          docLink.innerHTML = docLinkHtml;\n",
              "          element.appendChild(docLink);\n",
              "        }\n",
              "      </script>\n",
              "    </div>\n",
              "  </div>\n"
            ]
          },
          "metadata": {},
          "execution_count": 16
        }
      ]
    },
    {
      "cell_type": "code",
      "source": [
        "train = data_processing(train, info)\n",
        "test = data_processing(test, info)\n",
        "train.drop(columns=['일조(hr)', '일사(MJ/m2)'], inplace=True)"
      ],
      "metadata": {
        "id": "j-WNGhkqM5Oi"
      },
      "execution_count": null,
      "outputs": []
    },
    {
      "cell_type": "code",
      "source": [
        "train.columns = ['num', 'datetime', 'temperature', 'precipitation', 'windspeed', 'humidity', 'target', 'floor_area', 'cooling_area', 'solar', 'ESS', 'PCS']\n",
        "test.columns = ['num', 'datetime', 'temperature', 'precipitation', 'windspeed', 'humidity', 'floor_area', 'cooling_area', 'solar', 'ESS', 'PCS']"
      ],
      "metadata": {
        "id": "Lx0yG6wJNDn8"
      },
      "execution_count": null,
      "outputs": []
    },
    {
      "cell_type": "code",
      "source": [
        "train.isnull().sum()"
      ],
      "metadata": {
        "colab": {
          "base_uri": "https://localhost:8080/"
        },
        "id": "2noCCz08R_e9",
        "outputId": "a59d5169-a57d-432e-ed80-a8f89cf6b80b"
      },
      "execution_count": null,
      "outputs": [
        {
          "output_type": "execute_result",
          "data": {
            "text/plain": [
              "num                   0\n",
              "datetime              0\n",
              "temperature           0\n",
              "precipitation    160069\n",
              "windspeed            19\n",
              "humidity              9\n",
              "target                0\n",
              "floor_area            0\n",
              "cooling_area          0\n",
              "solar                 0\n",
              "ESS                   0\n",
              "PCS                   0\n",
              "dtype: int64"
            ]
          },
          "metadata": {},
          "execution_count": 10
        }
      ]
    },
    {
      "cell_type": "code",
      "source": [
        "test.isnull().sum()"
      ],
      "metadata": {
        "id": "R6FUIuY1S-Io",
        "outputId": "ace6234d-0687-4018-a3a2-50c0cfc06e70",
        "colab": {
          "base_uri": "https://localhost:8080/"
        }
      },
      "execution_count": null,
      "outputs": [
        {
          "output_type": "execute_result",
          "data": {
            "text/plain": [
              "num              0\n",
              "datetime         0\n",
              "temperature      0\n",
              "precipitation    0\n",
              "windspeed        0\n",
              "humidity         0\n",
              "floor_area       0\n",
              "cooling_area     0\n",
              "solar            0\n",
              "ESS              0\n",
              "PCS              0\n",
              "dtype: int64"
            ]
          },
          "metadata": {},
          "execution_count": 11
        }
      ]
    },
    {
      "cell_type": "code",
      "source": [
        "train.to_csv(path + 'train_process.csv', index=False)\n",
        "test.to_csv(path + 'test_process.csv', index=False)"
      ],
      "metadata": {
        "id": "b8uc_C-2OR-J"
      },
      "execution_count": null,
      "outputs": []
    },
    {
      "cell_type": "code",
      "source": [
        "test.columns"
      ],
      "metadata": {
        "colab": {
          "base_uri": "https://localhost:8080/"
        },
        "id": "gAOfq5_lMZkh",
        "outputId": "fadd4765-0394-4d37-a29b-7bb9d606cefb"
      },
      "execution_count": null,
      "outputs": [
        {
          "output_type": "execute_result",
          "data": {
            "text/plain": [
              "Index(['건물번호', '일시', '기온(C)', '강수량(mm)', '풍속(m/s)', '습도(%)', '연면적(m2)',\n",
              "       '냉방면적(m2)', '태양광용량(kW)', 'ESS저장용량(kWh)', 'PCS용량(kW)'],\n",
              "      dtype='object')"
            ]
          },
          "metadata": {},
          "execution_count": 31
        }
      ]
    },
    {
      "cell_type": "code",
      "source": [
        "train.columns"
      ],
      "metadata": {
        "colab": {
          "base_uri": "https://localhost:8080/"
        },
        "id": "NyCVFC7DMVos",
        "outputId": "2c8542a2-5d54-48f2-94d8-0ebe691a9673"
      },
      "execution_count": null,
      "outputs": [
        {
          "output_type": "execute_result",
          "data": {
            "text/plain": [
              "Index(['건물번호', '일시', '기온(C)', '강수량(mm)', '풍속(m/s)', '습도(%)', '전력소비량(kWh)',\n",
              "       '연면적(m2)', '냉방면적(m2)', '태양광용량(kW)', 'ESS저장용량(kWh)', 'PCS용량(kW)'],\n",
              "      dtype='object')"
            ]
          },
          "metadata": {},
          "execution_count": 30
        }
      ]
    },
    {
      "cell_type": "code",
      "source": [
        "train.columns"
      ],
      "metadata": {
        "colab": {
          "base_uri": "https://localhost:8080/"
        },
        "id": "ICzPZ4suMUIe",
        "outputId": "42e669fb-03b0-4f20-8d33-4293c07356af"
      },
      "execution_count": null,
      "outputs": [
        {
          "output_type": "execute_result",
          "data": {
            "text/plain": [
              "Index(['건물번호', '일시', '기온(C)', '강수량(mm)', '풍속(m/s)', '습도(%)', '일조(hr)',\n",
              "       '일사(MJ/m2)', '전력소비량(kWh)', '연면적(m2)', '냉방면적(m2)', '태양광용량(kW)',\n",
              "       'ESS저장용량(kWh)', 'PCS용량(kW)'],\n",
              "      dtype='object')"
            ]
          },
          "metadata": {},
          "execution_count": 13
        }
      ]
    },
    {
      "cell_type": "code",
      "source": [
        "train.columns = []"
      ],
      "metadata": {
        "id": "W8E5JTvfLzQR"
      },
      "execution_count": null,
      "outputs": []
    },
    {
      "cell_type": "code",
      "source": [
        "train.columns"
      ],
      "metadata": {
        "colab": {
          "base_uri": "https://localhost:8080/"
        },
        "id": "N2Iujt4GHvKl",
        "outputId": "71105755-83b6-41df-9e8a-a5f3e4741cfc"
      },
      "execution_count": null,
      "outputs": [
        {
          "output_type": "execute_result",
          "data": {
            "text/plain": [
              "Index(['num_date_time', '건물번호', '일시', '기온(C)', '강수량(mm)', '풍속(m/s)', '습도(%)',\n",
              "       '일조(hr)', '일사(MJ/m2)', '전력소비량(kWh)', '연면적(m2)', '냉방면적(m2)', '태양광용량(kW)',\n",
              "       'ESS저장용량(kWh)', 'PCS용량(kW)'],\n",
              "      dtype='object')"
            ]
          },
          "metadata": {},
          "execution_count": 9
        }
      ]
    },
    {
      "cell_type": "code",
      "source": [
        "train.isnull().sum()"
      ],
      "metadata": {
        "colab": {
          "base_uri": "https://localhost:8080/"
        },
        "id": "Ka-66T7YrHm6",
        "outputId": "98d50f47-9cf9-47b5-9319-b90b44530b40"
      },
      "execution_count": null,
      "outputs": [
        {
          "output_type": "execute_result",
          "data": {
            "text/plain": [
              "num_date_time         0\n",
              "건물번호                  0\n",
              "일시                    0\n",
              "기온(C)                 0\n",
              "강수량(mm)          160069\n",
              "풍속(m/s)              19\n",
              "습도(%)                 9\n",
              "일조(hr)            75182\n",
              "일사(MJ/m2)         87913\n",
              "전력소비량(kWh)            0\n",
              "건물유형                  0\n",
              "연면적(m2)               0\n",
              "냉방면적(m2)              0\n",
              "태양광용량(kW)             0\n",
              "ESS저장용량(kWh)          0\n",
              "PCS용량(kW)             0\n",
              "dtype: int64"
            ]
          },
          "metadata": {},
          "execution_count": 35
        }
      ]
    },
    {
      "cell_type": "code",
      "source": [
        "null_columns = ['강수량(mm)', '일조(hr)', '일사(MJ/m2)']"
      ],
      "metadata": {
        "id": "6iW_TW-trKpB"
      },
      "execution_count": null,
      "outputs": []
    },
    {
      "cell_type": "code",
      "source": [
        "input_columns = list(set(train.columns) - set(['전력소비량(kWh)', '강수량(mm)', '일조(hr)', '일사(MJ/m2)']))\n",
        "imputer = datawig.SimpleImputer(input_columns=input_columns,\n",
        "                                output_column='풍속(m/s)')\n",
        "imputer.fit(train_df=train, num_epochs=50)\n",
        "null_train = train[train['풍속(m/s)'].isnull()]\n",
        "null_imputed = imputer.predict(null_train)\n",
        "imputed_train = pd.DataFrame(null_imputed)"
      ],
      "metadata": {
        "id": "jI5WtkIcqyDg"
      },
      "execution_count": null,
      "outputs": []
    },
    {
      "cell_type": "code",
      "source": [
        "train.isnull().sum(\n",
        "\n",
        ")"
      ],
      "metadata": {
        "colab": {
          "base_uri": "https://localhost:8080/"
        },
        "id": "42dA-kyLkmSw",
        "outputId": "11c62875-458c-49d8-b14f-f1c6b4fadafe"
      },
      "execution_count": null,
      "outputs": [
        {
          "output_type": "execute_result",
          "data": {
            "text/plain": [
              "num_date_time         0\n",
              "건물번호                  0\n",
              "일시                    0\n",
              "기온(C)                 0\n",
              "강수량(mm)          160069\n",
              "풍속(m/s)              19\n",
              "습도(%)                 9\n",
              "일조(hr)            75182\n",
              "일사(MJ/m2)         87913\n",
              "전력소비량(kWh)            0\n",
              "건물유형                  0\n",
              "연면적(m2)               0\n",
              "냉방면적(m2)              0\n",
              "태양광용량(kW)             0\n",
              "ESS저장용량(kWh)          0\n",
              "PCS용량(kW)             0\n",
              "dtype: int64"
            ]
          },
          "metadata": {},
          "execution_count": 32
        }
      ]
    }
  ]
}